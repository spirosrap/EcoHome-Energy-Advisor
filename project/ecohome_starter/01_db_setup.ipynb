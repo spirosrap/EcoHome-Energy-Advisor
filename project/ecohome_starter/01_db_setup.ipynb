{
  "cells": [
    {
      "cell_type": "markdown",
      "metadata": {},
      "source": [
        "# EcoHome Energy Advisor - Database Setup\n",
        "\n",
        "In this notebook, you'll set up the database for the EcoHome Energy Advisor. The database will store:\n",
        "- Energy usage data (consumption, device types, costs)\n",
        "- Solar generation data (production, weather conditions)\n",
        "\n",
        "## Learning Objectives\n",
        "- Create SQLite database with proper schema\n",
        "- Populate database with sample data\n",
        "- Query data for analysis\n",
        "- Understand database design for energy management\n"
      ]
    },
    {
      "cell_type": "markdown",
      "metadata": {},
      "source": [
        "## 1. Import Required Libraries\n"
      ]
    },
    {
      "cell_type": "code",
      "execution_count": null,
      "metadata": {},
      "outputs": [],
      "source": [
        "# Import the necessary libraries\n",
        "from datetime import datetime, timedelta\n",
        "import random\n",
        "\n",
        "from models.energy import DatabaseManager"
      ]
    },
    {
      "cell_type": "markdown",
      "metadata": {},
      "source": [
        "## 2. Initialize Database Manager\n"
      ]
    },
    {
      "cell_type": "code",
      "execution_count": null,
      "metadata": {},
      "outputs": [],
      "source": [
        "# Create a DatabaseManager instance\n",
        "# Initialize it with the path \"data/energy_data.db\"\n",
        "db_manager = DatabaseManager(\"data/energy_data.db\")\n"
      ]
    },
    {
      "cell_type": "markdown",
      "metadata": {},
      "source": [
        "## 3. Create Database Tables\n"
      ]
    },
    {
      "cell_type": "code",
      "execution_count": null,
      "metadata": {},
      "outputs": [],
      "source": [
        "# Create the database tables\n",
        "# Use the create_tables() method from your DatabaseManager\n",
        "db_manager.create_tables()\n"
      ]
    },
    {
      "cell_type": "markdown",
      "metadata": {},
      "source": [
        "## 4. Generate Sample Energy Usage Data\n"
      ]
    },
    {
      "cell_type": "code",
      "execution_count": null,
      "metadata": {},
      "outputs": [],
      "source": [
        "# Generate sample energy usage data for the past 30 days\n",
        "# Include different device types: EV, HVAC, appliances\n",
        "# Use realistic consumption patterns (higher during peak hours)\n",
        "\n",
        "# Device types and their typical consumption patterns\n",
        "device_types = {\n",
        "    'EV': {'base_kwh': 10, 'variation': 5, 'peak_hours': [18, 19, 20, 21]},\n",
        "    'HVAC': {'base_kwh': 2, 'variation': 1, 'peak_hours': [12, 13, 14, 15, 16, 17]},\n",
        "    'appliance': {'base_kwh': 1.5, 'variation': 0.5, 'peak_hours': [19, 20, 21, 22]}\n",
        "}\n",
        "\n",
        "# Generate data for the past 30 days\n",
        "start_date = datetime.now() - timedelta(days=30)\n",
        "records_created = 0\n",
        "\n",
        "for day in range(30):\n",
        "    current_date = start_date + timedelta(days=day)\n",
        "    \n",
        "    for hour in range(24):\n",
        "        timestamp = current_date.replace(hour=hour, minute=0, second=0, microsecond=0)\n",
        "        \n",
        "        # Generate usage for each device type\n",
        "        for device_type, config in device_types.items():\n",
        "            # Base consumption with variation\n",
        "            base_consumption = config['base_kwh']\n",
        "            variation = random.uniform(-config['variation'], config['variation'])\n",
        "            \n",
        "            # Peak hour multiplier\n",
        "            peak_multiplier = 1.5 if hour in config['peak_hours'] else 0.8\n",
        "            \n",
        "            consumption = max(0, (base_consumption + variation) * peak_multiplier)\n",
        "            \n",
        "            # Calculate cost (simplified pricing)\n",
        "            price_per_kwh = 0.15 if hour in config['peak_hours'] else 0.10\n",
        "            cost = consumption * price_per_kwh\n",
        "            \n",
        "            # Device names\n",
        "            device_names = {\n",
        "                'EV': 'Tesla Model 3',\n",
        "                'HVAC': 'Main AC Unit',\n",
        "                'appliance': random.choice(['Dishwasher', 'Washing Machine', 'Dryer'])\n",
        "            }\n",
        "            \n",
        "            # Add record to database\n",
        "            db_manager.add_usage_record(\n",
        "                timestamp=timestamp,\n",
        "                consumption_kwh=consumption,\n",
        "                device_type=device_type,\n",
        "                device_name=device_names[device_type],\n",
        "                cost_usd=cost\n",
        "            )\n",
        "            records_created += 1\n",
        "\n",
        "print(f\"Created {records_created} energy usage records\")\n"
      ]
    },
    {
      "cell_type": "markdown",
      "metadata": {},
      "source": [
        "## 5. Generate Sample Solar Generation Data\n"
      ]
    },
    {
      "cell_type": "code",
      "execution_count": null,
      "metadata": {},
      "outputs": [],
      "source": [
        "# Generate sample solar generation data\n",
        "# Consider weather patterns, time of day, and seasonal variations\n",
        "\n",
        "# Weather conditions and their impact on solar generation\n",
        "weather_conditions = {\n",
        "    'sunny': {'multiplier': 1.0, 'probability': 0.4},\n",
        "    'partly_cloudy': {'multiplier': 0.6, 'probability': 0.3},\n",
        "    'cloudy': {'multiplier': 0.3, 'probability': 0.2},\n",
        "    'rainy': {'multiplier': 0.1, 'probability': 0.1}\n",
        "}\n",
        "\n",
        "# Generate solar generation data for the same period\n",
        "start_date = datetime.now() - timedelta(days=30)\n",
        "generation_records = 0\n",
        "\n",
        "for day in range(30):\n",
        "    current_date = start_date + timedelta(days=day)\n",
        "    \n",
        "    # Select weather condition for the day\n",
        "    weather_choice = random.choices(\n",
        "        list(weather_conditions.keys()),\n",
        "        weights=[weather_conditions[w]['probability'] for w in weather_conditions.keys()]\n",
        "    )[0]\n",
        "    weather_multiplier = weather_conditions[weather_choice]['multiplier']\n",
        "    \n",
        "    for hour in range(24):\n",
        "        timestamp = current_date.replace(hour=hour, minute=0, second=0, microsecond=0)\n",
        "        \n",
        "        # Solar generation only during daylight hours (6 AM to 6 PM)\n",
        "        if 6 <= hour <= 18:\n",
        "            # Base generation curve (peak at noon)\n",
        "            hour_factor = 1 - abs(hour - 12) / 6  # Peak at hour 12\n",
        "            base_generation = 5.0 * hour_factor  # Max 5 kWh at peak\n",
        "            \n",
        "            # Apply weather multiplier\n",
        "            generation = base_generation * weather_multiplier\n",
        "            \n",
        "            # Add some random variation\n",
        "            generation *= random.uniform(0.8, 1.2)\n",
        "            generation = max(0, generation)\n",
        "            \n",
        "            # Calculate temperature (affects solar efficiency)\n",
        "            base_temp = 20 + random.uniform(-5, 5)\n",
        "            temp_factor = 1.0 if 15 <= base_temp <= 35 else 0.9\n",
        "            \n",
        "            # Solar irradiance calculation\n",
        "            irradiance = 800 * hour_factor * weather_multiplier if generation > 0 else 0\n",
        "            \n",
        "            # Add record to database\n",
        "            db_manager.add_generation_record(\n",
        "                timestamp=timestamp,\n",
        "                generation_kwh=generation,\n",
        "                weather_condition=weather_choice,\n",
        "                temperature_c=base_temp * temp_factor,\n",
        "                solar_irradiance=irradiance\n",
        "            )\n",
        "            generation_records += 1\n",
        "\n",
        "print(f\"Created {generation_records} solar generation records\")\n"
      ]
    },
    {
      "cell_type": "markdown",
      "metadata": {},
      "source": [
        "## 6. Query and Analyze Data\n"
      ]
    },
    {
      "cell_type": "code",
      "execution_count": null,
      "metadata": {},
      "outputs": [],
      "source": [
        "# Query the data to verify it was inserted correctly\n",
        "# Show total consumption by device type\n",
        "# Show daily solar generation patterns\n",
        "# Calculate some basic statistics\n",
        "\n",
        "# Get recent data for analysis\n",
        "recent_usage = db_manager.get_recent_usage(24)  # Last 24 hours\n",
        "recent_generation = db_manager.get_recent_generation(24)\n",
        "\n",
        "print(\"=== Energy Usage Analysis ===\")\n",
        "print(f\"Total records in last 24 hours: {len(recent_usage)}\")\n",
        "\n",
        "# Group by device type\n",
        "device_consumption = {}\n",
        "for record in recent_usage:\n",
        "    device = record.device_type or 'unknown'\n",
        "    if device not in device_consumption:\n",
        "        device_consumption[device] = {'kwh': 0, 'cost': 0, 'records': 0}\n",
        "    device_consumption[device]['kwh'] += record.consumption_kwh\n",
        "    device_consumption[device]['cost'] += record.cost_usd or 0\n",
        "    device_consumption[device]['records'] += 1\n",
        "\n",
        "print(\"\\nConsumption by device type:\")\n",
        "for device, data in device_consumption.items():\n",
        "    print(f\"  {device}: {data['kwh']:.2f} kWh, ${data['cost']:.2f}, {data['records']} records\")\n",
        "\n",
        "print(f\"\\n=== Solar Generation Analysis ===\")\n",
        "print(f\"Total generation records in last 24 hours: {len(recent_generation)}\")\n",
        "\n",
        "total_generation = sum(r.generation_kwh for r in recent_generation)\n",
        "print(f\"Total generation: {total_generation:.2f} kWh\")\n",
        "\n",
        "# Weather breakdown\n",
        "weather_breakdown = {}\n",
        "for record in recent_generation:\n",
        "    weather = record.weather_condition or 'unknown'\n",
        "    if weather not in weather_breakdown:\n",
        "        weather_breakdown[weather] = {'kwh': 0, 'records': 0}\n",
        "    weather_breakdown[weather]['kwh'] += record.generation_kwh\n",
        "    weather_breakdown[weather]['records'] += 1\n",
        "\n",
        "print(\"\\nGeneration by weather condition:\")\n",
        "for weather, data in weather_breakdown.items():\n",
        "    print(f\"  {weather}: {data['kwh']:.2f} kWh, {data['records']} records\")\n"
      ]
    },
    {
      "cell_type": "markdown",
      "metadata": {},
      "source": [
        "## 7. Test Database Tools\n"
      ]
    },
    {
      "cell_type": "code",
      "execution_count": null,
      "metadata": {},
      "outputs": [],
      "source": [
        "# Test the database query functions from tools.py\n",
        "# Import and test: query_energy_usage, query_solar_generation, get_recent_energy_summary\n",
        "\n",
        "from tools import query_energy_usage, query_solar_generation, get_recent_energy_summary\n",
        "\n",
        "# Test querying data for the last 7 days\n",
        "end_date = datetime.now().strftime(\"%Y-%m-%d\")\n",
        "start_date = (datetime.now() - timedelta(days=7)).strftime(\"%Y-%m-%d\")\n",
        "\n",
        "print(\"=== Testing Database Tools ===\")\n",
        "print(f\"Querying data from {start_date} to {end_date}\")\n",
        "\n",
        "# Test energy usage query\n",
        "usage_data = query_energy_usage.invoke(\n",
        "    input={\n",
        "        \"start_date\": start_date, \n",
        "        \"end_date\": end_date,\n",
        "    }\n",
        ")\n",
        "print(f\"\\nEnergy Usage Query Results:\")\n",
        "print(f\"  Total records: {usage_data['total_records']}\")\n",
        "print(f\"  Total consumption: {usage_data['total_consumption_kwh']} kWh\")\n",
        "print(f\"  Total cost: ${usage_data['total_cost_usd']}\")\n",
        "\n",
        "# Test solar generation query\n",
        "generation_data = query_solar_generation.invoke(\n",
        "    input={\n",
        "        \"start_date\": start_date, \n",
        "        \"end_date\": end_date,\n",
        "    }\n",
        ")\n",
        "print(f\"\\nSolar Generation Query Results:\")\n",
        "print(f\"  Total records: {generation_data['total_records']}\")\n",
        "print(f\"  Total generation: {generation_data['total_generation_kwh']} kWh\")\n",
        "print(f\"  Average daily: {generation_data['average_daily_generation']} kWh\")\n",
        "\n",
        "# Test recent energy summary\n",
        "summary = get_recent_energy_summary.invoke(\n",
        "    input={\n",
        "        \"hours\": 24\n",
        "    }\n",
        ")\n",
        "print(f\"\\nRecent Energy Summary:\")\n",
        "print(f\"  Usage: {summary['usage']['total_consumption_kwh']} kWh, ${summary['usage']['total_cost_usd']}\")\n",
        "print(f\"  Generation: {summary['generation']['total_generation_kwh']} kWh\")\n",
        "print(f\"  Weather: {summary['generation']['average_weather']}\")\n"
      ]
    }
  ],
  "metadata": {
    "kernelspec": {
      "display_name": "cd14640 (3.11.10)",
      "language": "python",
      "name": "python3"
    },
    "language_info": {
      "codemirror_mode": {
        "name": "ipython",
        "version": 3
      },
      "file_extension": ".py",
      "mimetype": "text/x-python",
      "name": "python",
      "nbconvert_exporter": "python",
      "pygments_lexer": "ipython3",
      "version": "3.11.10"
    }
  },
  "nbformat": 4,
  "nbformat_minor": 2
}
