{
 "cells": [
  {
   "cell_type": "markdown",
   "id": "b8860961",
   "metadata": {},
   "source": [
    "# EcoHome Energy Advisor - Agent Run & Evaluation\n",
    "\n",
    "In this notebook, you'll run the Energy Advisor agent with various real-world scenarios and see how it helps customers optimize their energy usage.\n",
    "\n",
    "## Learning Objectives\n",
    "- Create the agent's instructions\n",
    "- Run the Energy Advisor with different types of questions\n",
    "- Evaluate response quality and accuracy\n",
    "- Measure tool usage effectiveness\n",
    "- Identify areas for improvement\n",
    "- Implement evaluation metrics\n",
    "\n",
    "## Evaluation Criteria\n",
    "- **Accuracy**: Correct information and calculations\n",
    "- **Relevance**: Responses address the user's question\n",
    "- **Completeness**: Comprehensive answers with actionable advice\n",
    "- **Tool Usage**: Appropriate use of available tools\n",
    "- **Reasoning**: Clear explanation of recommendations\n"
   ]
  },
  {
   "cell_type": "markdown",
   "id": "ce6ffc7d",
   "metadata": {},
   "source": [
    "## 1. Import and Initialize"
   ]
  },
  {
   "cell_type": "code",
   "execution_count": null,
   "id": "b989c804",
   "metadata": {},
   "outputs": [],
   "source": [
    "from datetime import datetime\n",
    "from agent import Agent"
   ]
  },
  {
   "cell_type": "code",
   "execution_count": null,
   "id": "0d063734",
   "metadata": {},
   "outputs": [],
   "source": [
    "## TODO: Create the agent's instructions\n",
    "\n",
    "ECOHOME_SYSTEM_PROMPT = \"\""
   ]
  },
  {
   "cell_type": "code",
   "execution_count": null,
   "id": "1aaa54a3",
   "metadata": {},
   "outputs": [],
   "source": [
    "ecohome_agent = Agent(\n",
    "    instructions=ECOHOME_SYSTEM_PROMPT,\n",
    ")"
   ]
  },
  {
   "cell_type": "code",
   "execution_count": null,
   "id": "5a63a542",
   "metadata": {},
   "outputs": [],
   "source": [
    "response = ecohome_agent.invoke(\n",
    "    question=\"When should I charge my electric car tomorrow to minimize cost and maximize solar power?\",\n",
    "    context=\"Location: San Francisco, CA\"\n",
    ")"
   ]
  },
  {
   "cell_type": "code",
   "execution_count": null,
   "id": "429e43cb",
   "metadata": {},
   "outputs": [],
   "source": [
    "print(response[\"messages\"][-1].content)"
   ]
  },
  {
   "cell_type": "code",
   "execution_count": null,
   "id": "5d0aa3af",
   "metadata": {},
   "outputs": [],
   "source": [
    "print(\"TOOLS:\")\n",
    "for msg in response[\"messages\"]:\n",
    "    obj = msg.model_dump()\n",
    "    if obj.get(\"tool_call_id\"):\n",
    "        print(\"-\", msg.name)"
   ]
  },
  {
   "cell_type": "markdown",
   "id": "05d2730e",
   "metadata": {},
   "source": [
    "## 2. Define Test Cases"
   ]
  },
  {
   "cell_type": "code",
   "execution_count": null,
   "id": "aefe0d45",
   "metadata": {},
   "outputs": [],
   "source": [
    "# TODO: Define comprehensive test cases for the Energy Advisor\n",
    "# Create 10 test cases covering different scenarios:\n",
    "# - EV charging optimization\n",
    "# - Thermostat settings\n",
    "# - Appliance scheduling\n",
    "# - Solar power maximization\n",
    "# - Cost savings calculations"
   ]
  },
  {
   "cell_type": "code",
   "execution_count": null,
   "id": "5f086892",
   "metadata": {},
   "outputs": [],
   "source": [
    "test_cases = [\n",
    "    {\n",
    "        \"id\": \"ev_charging_1\",\n",
    "        \"question\": \"When should I charge my electric car tomorrow to minimize cost and maximize solar power?\",\n",
    "        \"expected_tools\": [\"get_weather_forecast\", \"get_electricity_prices\"],\n",
    "        \"expected_response\": \"The response should contain time recommendation, cost analysis and solar consideration\",\n",
    "    },\n",
    "]\n",
    "\n",
    "if len(test_cases) < 10:\n",
    "    raise ValueError(\"You MUST have at least 10 test cases\")"
   ]
  },
  {
   "cell_type": "markdown",
   "id": "f2cdde81",
   "metadata": {},
   "source": [
    "## 3. Run Agent Tests"
   ]
  },
  {
   "cell_type": "code",
   "execution_count": null,
   "id": "b8eb83e5",
   "metadata": {},
   "outputs": [],
   "source": [
    "CONTEXT = \"Location: San Francisco, CA\""
   ]
  },
  {
   "cell_type": "code",
   "execution_count": null,
   "id": "e9dc82e8",
   "metadata": {},
   "outputs": [],
   "source": [
    "# Run the agent tests\n",
    "# For each test case, call the agent and collect the response\n",
    "# Store results for evaluation\n",
    "\n",
    "print(\"=== Running Agent Tests ===\")\n",
    "test_results = []\n",
    "\n",
    "for i, test_case in enumerate(test_cases):\n",
    "    print(f\"\\nTest {i+1}: {test_case['id']}\")\n",
    "    print(f\"Question: {test_case['question']}\")\n",
    "    print(\"-\" * 50)\n",
    "    \n",
    "    try:\n",
    "        # Call the agent\n",
    "        response = ecohome_agent.invoke(\n",
    "            question=test_case['question'],\n",
    "            context=CONTEXT\n",
    "        )\n",
    "        \n",
    "        # Store the result\n",
    "        result = {\n",
    "            'test_id': test_case['id'],\n",
    "            'question': test_case['question'],\n",
    "            'response': response,\n",
    "            'expected_tools': test_case['expected_tools'],\n",
    "            'expected_response': test_case['expected_response'],\n",
    "            'timestamp': datetime.now().isoformat()\n",
    "        }\n",
    "        test_results.append(result)\n",
    "                \n",
    "    except Exception as e:\n",
    "        print(f\"Error: {e}\")\n",
    "        result = {\n",
    "            'test_id': test_case['id'],\n",
    "            'question': test_case['question'],\n",
    "            'response': f\"Error: {str(e)}\",\n",
    "            'expected_tools': test_case['expected_tools'],\n",
    "            'expected_response': test_case['expected_response'],\n",
    "            'timestamp': datetime.now().isoformat(),\n",
    "            'error': str(e)\n",
    "        }\n",
    "        test_results.append(result)\n",
    "\n",
    "print(f\"\\nCompleted {len(test_results)} tests\")\n"
   ]
  },
  {
   "cell_type": "code",
   "execution_count": null,
   "id": "4be9f1ba",
   "metadata": {},
   "outputs": [],
   "source": [
    "test_results"
   ]
  },
  {
   "cell_type": "markdown",
   "id": "5760814c",
   "metadata": {},
   "source": [
    "## 4. Evaluate Responses"
   ]
  },
  {
   "cell_type": "code",
   "execution_count": null,
   "id": "1da0640e",
   "metadata": {},
   "outputs": [],
   "source": [
    "# TODO: Implement evaluation functions\n",
    "# Create functions to evaluate:\n",
    "# - Final Response\n",
    "# - Tool usage"
   ]
  },
  {
   "cell_type": "code",
   "execution_count": null,
   "id": "031e858d",
   "metadata": {},
   "outputs": [],
   "source": [
    "# TODO: Create a response evaluator\n",
    "def evaluate_response(question, final_response, expected_response):\n",
    "    \"\"\"Evaluate a single response against expected response\"\"\"\n",
    "    pass"
   ]
  },
  {
   "cell_type": "code",
   "execution_count": null,
   "id": "7e0dc154",
   "metadata": {},
   "outputs": [],
   "source": [
    "# TODO: Create a tool udage evaluator\n",
    "def evaluate_tool_usage(messages, expected_tools):\n",
    "    \"\"\"Evaluate if the right tools were used\"\"\"\n",
    "    pass"
   ]
  },
  {
   "cell_type": "code",
   "execution_count": null,
   "id": "9c3df271",
   "metadata": {},
   "outputs": [],
   "source": [
    "# TODO: Generate a comprehensive evaluation report\n",
    "# Calculate overall scores and metrics\n",
    "# Identify strengths and weaknesses\n",
    "# Provide recommendations for improvement\n",
    "def generate_evaluation_report():\n",
    "    pass"
   ]
  },
  {
   "cell_type": "code",
   "execution_count": null,
   "id": "8eeb59ba",
   "metadata": {},
   "outputs": [],
   "source": []
  }
 ],
 "metadata": {
  "kernelspec": {
   "display_name": "cd14640 (3.11.10)",
   "language": "python",
   "name": "python3"
  },
  "language_info": {
   "codemirror_mode": {
    "name": "ipython",
    "version": 3
   },
   "file_extension": ".py",
   "mimetype": "text/x-python",
   "name": "python",
   "nbconvert_exporter": "python",
   "pygments_lexer": "ipython3",
   "version": "3.11.10"
  }
 },
 "nbformat": 4,
 "nbformat_minor": 5
}
